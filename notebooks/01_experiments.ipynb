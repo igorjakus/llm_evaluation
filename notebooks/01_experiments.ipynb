{
 "cells": [
  {
   "cell_type": "code",
   "execution_count": 63,
   "id": "94fe6937",
   "metadata": {},
   "outputs": [
    {
     "name": "stderr",
     "output_type": "stream",
     "text": [
      "[nltk_data] Downloading package punkt_tab to\n",
      "[nltk_data]     /Users/igojakus/nltk_data...\n",
      "[nltk_data]   Package punkt_tab is already up-to-date!\n"
     ]
    },
    {
     "data": {
      "text/plain": [
       "True"
      ]
     },
     "execution_count": 63,
     "metadata": {},
     "output_type": "execute_result"
    }
   ],
   "source": [
    "import sys\n",
    "\n",
    "sys.path.append(\"../src\")\n",
    "\n",
    "import nltk\n",
    "from nltk.translate.bleu_score import sentence_bleu, SmoothingFunction\n",
    "from ollama_client import OllamaModel\n",
    "import bert_score\n",
    "\n",
    "nltk.download(\"punkt_tab\")"
   ]
  },
  {
   "cell_type": "code",
   "execution_count": 49,
   "id": "86f09eea",
   "metadata": {},
   "outputs": [],
   "source": [
    "to_summarize = \"Hello! I'm reading a super fancy book about Natural Language Processing\"\n",
    "reference = \"I'm reading a fancy NLP book.\""
   ]
  },
  {
   "cell_type": "code",
   "execution_count": 60,
   "id": "8da3271b",
   "metadata": {},
   "outputs": [
    {
     "data": {
      "text/plain": [
       "['Hello',\n",
       " '!',\n",
       " 'I',\n",
       " \"'m\",\n",
       " 'reading',\n",
       " 'a',\n",
       " 'super',\n",
       " 'fancy',\n",
       " 'book',\n",
       " 'about',\n",
       " 'Natural',\n",
       " 'Language',\n",
       " 'Processing']"
      ]
     },
     "execution_count": 60,
     "metadata": {},
     "output_type": "execute_result"
    }
   ],
   "source": [
    "to_summarize_tokenized = nltk.word_tokenize(to_summarize)\n",
    "to_summarize_tokenized"
   ]
  },
  {
   "cell_type": "code",
   "execution_count": 59,
   "id": "ade18203",
   "metadata": {},
   "outputs": [
    {
     "data": {
      "text/plain": [
       "['I', \"'m\", 'reading', 'a', 'fancy', 'NLP', 'book', '.']"
      ]
     },
     "execution_count": 59,
     "metadata": {},
     "output_type": "execute_result"
    }
   ],
   "source": [
    "reference_tokenized = nltk.word_tokenize(reference)\n",
    "reference_tokenized"
   ]
  },
  {
   "cell_type": "code",
   "execution_count": 56,
   "id": "f348f3bc",
   "metadata": {},
   "outputs": [
    {
     "data": {
      "text/plain": [
       "\"I'm reading a book about Natural Language Processing.\""
      ]
     },
     "execution_count": 56,
     "metadata": {},
     "output_type": "execute_result"
    }
   ],
   "source": [
    "prompt_template = \"Summarize this text super concisely. Only return the summary:\\n\\n{}\"\n",
    "\n",
    "summarized = OllamaModel.model_fn(\n",
    "    prompt_template.format(to_summarize), model_name=\"gemma3:1b\"\n",
    ")\n",
    "\n",
    "summarized"
   ]
  },
  {
   "cell_type": "code",
   "execution_count": 58,
   "id": "2898d586",
   "metadata": {},
   "outputs": [],
   "source": [
    "summarized_tokenized = nltk.word_tokenize(summarized)"
   ]
  },
  {
   "cell_type": "code",
   "execution_count": 61,
   "id": "1d0a8688",
   "metadata": {},
   "outputs": [
    {
     "data": {
      "text/plain": [
       "0.004154446436436531"
      ]
     },
     "execution_count": 61,
     "metadata": {},
     "output_type": "execute_result"
    }
   ],
   "source": [
    "sentence_bleu(\n",
    "    [reference], summarized_tokenized, smoothing_function=SmoothingFunction().method1\n",
    ")"
   ]
  },
  {
   "cell_type": "code",
   "execution_count": 68,
   "id": "2e045c59",
   "metadata": {},
   "outputs": [
    {
     "name": "stderr",
     "output_type": "stream",
     "text": [
      "Some weights of RobertaModel were not initialized from the model checkpoint at roberta-large and are newly initialized: ['pooler.dense.bias', 'pooler.dense.weight']\n",
      "You should probably TRAIN this model on a down-stream task to be able to use it for predictions and inference.\n"
     ]
    },
    {
     "data": {
      "text/plain": [
       "(tensor([0.9315]), tensor([0.9355]), tensor([0.9335]))"
      ]
     },
     "execution_count": 68,
     "metadata": {},
     "output_type": "execute_result"
    }
   ],
   "source": [
    "P, R, F1 = bert_score.score([reference], [summarized], lang=\"en\", verbose=False)\n",
    "P, R, F1"
   ]
  },
  {
   "cell_type": "code",
   "execution_count": null,
   "id": "ed95af3a",
   "metadata": {},
   "outputs": [
    {
     "name": "stderr",
     "output_type": "stream",
     "text": [
      "Some weights of RobertaModel were not initialized from the model checkpoint at roberta-large and are newly initialized: ['pooler.dense.bias', 'pooler.dense.weight']\n",
      "You should probably TRAIN this model on a down-stream task to be able to use it for predictions and inference.\n"
     ]
    },
    {
     "data": {
      "text/plain": [
       "[0.9999999403953552]"
      ]
     },
     "execution_count": 72,
     "metadata": {},
     "output_type": "execute_result"
    }
   ],
   "source": [
    "_, _, F1 = bert_score.score([reference], [reference], lang=\"en\", verbose=False)\n",
    "F1.tolist()"
   ]
  },
  {
   "cell_type": "code",
   "execution_count": null,
   "id": "b99095d5",
   "metadata": {},
   "outputs": [],
   "source": []
  }
 ],
 "metadata": {
  "kernelspec": {
   "display_name": ".venv",
   "language": "python",
   "name": "python3"
  },
  "language_info": {
   "codemirror_mode": {
    "name": "ipython",
    "version": 3
   },
   "file_extension": ".py",
   "mimetype": "text/x-python",
   "name": "python",
   "nbconvert_exporter": "python",
   "pygments_lexer": "ipython3",
   "version": "3.13.5"
  }
 },
 "nbformat": 4,
 "nbformat_minor": 5
}
